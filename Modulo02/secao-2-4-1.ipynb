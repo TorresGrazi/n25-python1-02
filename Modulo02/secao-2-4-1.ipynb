{
 "cells": [
  {
   "cell_type": "markdown",
   "metadata": {},
   "source": [
    "# Variáveis"
   ]
  },
  {
   "cell_type": "code",
   "execution_count": 2,
   "metadata": {},
   "outputs": [
    {
     "name": "stdout",
     "output_type": "stream",
     "text": [
      "45\n",
      "46\n"
     ]
    }
   ],
   "source": [
    "idade = 45\n",
    "print(idade)\n",
    "idade = idade + 1\n",
    "print(idade)"
   ]
  },
  {
   "cell_type": "markdown",
   "metadata": {},
   "source": [
    "### Regras para o nome de uma variável\n",
    "- Deve- se iniciar com letra ou _\n",
    "- Não pode conter caracter especial\n",
    "- Pode-se usar letras, números ou _\n",
    "- O python faz diferença entre letras Maiscúlas e Minúsculas\n",
    "- Não pode ser uma palavra reservada do python"
   ]
  },
  {
   "cell_type": "markdown",
   "metadata": {},
   "source": [
    "### Laboratório 2.4.7"
   ]
  },
  {
   "cell_type": "markdown",
   "metadata": {},
   "source": [
    "Cenário\n",
    "Aqui está uma breve história:\n",
    "\n",
    "Era uma vez em Appleland, John tinha três maçãs, Maria cinco maçãs e Adam tinha seis maças. Todos ficaram muito felizes e viveram por muito tempo. Fim da história.\n",
    "\n",
    "Sua tarefa:\n",
    "\n",
    "crie as variáveis: john, mary e adam;\n",
    "atribuir valores às variáveis. Os valores devem ser iguais aos números de fruto possuído por John, Mary e Adam, respectivamente;\n",
    "tendo armazenado os números nas variáveis, imprimindo as variáveis em uma linha e separando cada uma delas com uma vírgula;\n",
    "Agora, crie uma nova variável chamada total_apples igual à adição das três variáveis anteriores.\n",
    "imprima o valor armazenado em total_apples no console;\n",
    "experimente com seu código: crie novas variáveis, atribua valores diferentes a elas e execute várias operações aritméticas nelas (por exemplo, +, -, *, /, //, etc.). Tente imprimir uma sequência de caracteres e um número inteiro juntos em uma linha, por exemplo, \"Número total de maças:\" e total_apples."
   ]
  },
  {
   "cell_type": "code",
   "execution_count": 7,
   "metadata": {},
   "outputs": [
    {
     "name": "stdout",
     "output_type": "stream",
     "text": [
      "3, 5, 6\n",
      "Total de maças: 14\n"
     ]
    }
   ],
   "source": [
    "john = 3\n",
    "mary = 5\n",
    "adam = 6\n",
    "print(john, mary, adam, sep=\", \")\n",
    "total_apples = john + mary + adam\n",
    "print(\"Total de maças:\", total_apples)\n"
   ]
  },
  {
   "cell_type": "markdown",
   "metadata": {},
   "source": [
    "### Operador de atalho\n",
    "operador = operador operacao valor => operador operacao= valor\n",
    "resumindo\n",
    "idade = idade + 5 => idade += 5"
   ]
  },
  {
   "cell_type": "code",
   "execution_count": 10,
   "metadata": {},
   "outputs": [
    {
     "name": "stdout",
     "output_type": "stream",
     "text": [
      "7\n",
      "49\n"
     ]
    }
   ],
   "source": [
    "variavel = 2\n",
    "# variavel = variavel + 5\n",
    "variavel += 5\n",
    "print(variavel)\n",
    "# variavel = variavel * 5 + 2\n",
    "variavel *= 5 + 2\n",
    "print(variavel)"
   ]
  },
  {
   "cell_type": "markdown",
   "metadata": {},
   "source": [
    "### Laboratório 2.4.9"
   ]
  },
  {
   "cell_type": "code",
   "execution_count": 13,
   "metadata": {},
   "outputs": [
    {
     "name": "stdout",
     "output_type": "stream",
     "text": [
      "7.38 milhas é 11.88 quilômetros\n",
      "12.25 quilômetros é 7.61 milhas\n"
     ]
    }
   ],
   "source": [
    "kilometers = 12.25\n",
    "miles = 7.38\n",
    "one_m_2_k = 1.61\n",
    "\n",
    "miles_to_kilometers = miles * one_m_2_k\n",
    "kilometers_to_miles = kilometers/ one_m_2_k\n",
    "\n",
    "print(miles, \"milhas é\", round(miles_to_kilometers, 2), \"quilômetros\")\n",
    "print(kilometers, \"quilômetros é\", round(kilometers_to_miles, 2), \"milhas\")"
   ]
  },
  {
   "cell_type": "markdown",
   "metadata": {},
   "source": [
    "### Laboratório 2.4.10"
   ]
  },
  {
   "cell_type": "markdown",
   "metadata": {},
   "source": [
    "Cenário\n",
    "Dê uma olhada no código no editor: ele lê um valor float, coloca-o em uma variável chamada x e imprime o valor de uma variável chamada y. Sua tarefa é completar o código para avaliar a seguinte expressão:\n",
    "\n",
    "3x3 - 2x2 + 3x - 1\n",
    "\n",
    "O resultado deve ser atribuído a y.\n",
    "\n",
    "Lembre-se de que a notação algébricas clássica gosta de omitir o operador de multiplicação - você precisa usá-la explicitamente. Observe como mudamos o tipo de dados para garantir que x seja do tipo float.\n",
    "\n",
    "Mantenha seu código limpo e legível e teste-o usando os dados que fornecemos, atribuindo-o sempre à variável x (codificando-o). Não desanime por qualquer falha inicial. Seja persistente e inquisitivo.\n",
    "\n",
    "Exemplo de entrada\n",
    "x = 0\n",
    "x = 1\n",
    "x = -1\n",
    "Exemplo de saída\n",
    "y = -1.0\n",
    "y = 3.0\n",
    "y = -9.0"
   ]
  },
  {
   "cell_type": "code",
   "execution_count": 3,
   "metadata": {},
   "outputs": [
    {
     "name": "stdout",
     "output_type": "stream",
     "text": [
      "y = -9.0\n"
     ]
    }
   ],
   "source": [
    "\n",
    "x = -1\n",
    "x = float(x)\n",
    "y = 3 * x**3 - 2 * x**2 + 3 * x - 1\n",
    "print(\"y =\", y)"
   ]
  },
  {
   "cell_type": "code",
   "execution_count": 4,
   "metadata": {},
   "outputs": [
    {
     "name": "stdout",
     "output_type": "stream",
     "text": [
      "y = 3.0\n"
     ]
    }
   ],
   "source": [
    "x = 1\n",
    "x = float(x)\n",
    "y = 3 * x**3 - 2 * x**2 + 3 * x - 1\n",
    "print(\"y =\", y)"
   ]
  },
  {
   "cell_type": "code",
   "execution_count": 5,
   "metadata": {},
   "outputs": [
    {
     "name": "stdout",
     "output_type": "stream",
     "text": [
      "y = -1.0\n"
     ]
    }
   ],
   "source": [
    "x = 0\n",
    "x = float(x)\n",
    "y = 3 * x**3 - 2 * x**2 + 3 * x - 1\n",
    "print(\"y =\", y)\n"
   ]
  }
 ],
 "metadata": {
  "kernelspec": {
   "display_name": ".venv",
   "language": "python",
   "name": "python3"
  },
  "language_info": {
   "codemirror_mode": {
    "name": "ipython",
    "version": 3
   },
   "file_extension": ".py",
   "mimetype": "text/x-python",
   "name": "python",
   "nbconvert_exporter": "python",
   "pygments_lexer": "ipython3",
   "version": "3.13.2"
  }
 },
 "nbformat": 4,
 "nbformat_minor": 2
}
