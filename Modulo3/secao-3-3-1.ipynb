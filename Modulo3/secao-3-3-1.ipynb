{
 "cells": [
  {
   "cell_type": "markdown",
   "metadata": {},
   "source": [
    "### 3.3 Lógica e Operadores bit-a-bit\n",
    "Operadores lógicos and, or e not"
   ]
  },
  {
   "cell_type": "markdown",
   "metadata": {},
   "source": [
    "A\tB\tA and B\tA or B\tnot A\n",
    "True\tTrue\tTrue\tTrue\tFalse\n",
    "True\tFalse\tFalse\tTrue\tFalse\n",
    "False\tTrue\tFalse\tTrue\tTrue\n",
    "False\tFalse\tFalse\tFalse\tTrue"
   ]
  },
  {
   "cell_type": "code",
   "execution_count": null,
   "metadata": {},
   "outputs": [],
   "source": [
    "idade = 19\n",
    "if idade>=18 and idade<=60 :\n",
    "    print(\"Pode dirigir sem restrições, desde com carta.\")\n",
    "idade = 10\n",
    "while idade<18 or idade>60:\n",
    "    idade = int(input(\"Digite uma idade entre 18 e 60: \"))\n",
    "    if idade<18 or idade>60: print(\"Idade inválida!\")\n",
    "    if not(idade>=18 and idade<=60): print(\"Idade inválida!\")\n",
    "# Só vai sair do laço com uma idade entre 18 e 60"
   ]
  },
  {
   "cell_type": "code",
   "execution_count": null,
   "metadata": {},
   "outputs": [],
   "source": [
    "idade = int(input(\"Digite uma idade maior que zero: \"))\n",
    "if not idade:\n",
    "    print(\"Idade inválida!\")"
   ]
  },
  {
   "cell_type": "markdown",
   "metadata": {},
   "source": [
    "### Operadores bit-a-bit\n",
    "Operador de conjunção ( & ) ou and bit-a-bit\n",
    "2 & 3 = 2 2 10 &\n",
    "3 11"
   ]
  },
  {
   "cell_type": "code",
   "execution_count": 1,
   "metadata": {},
   "outputs": [
    {
     "name": "stdout",
     "output_type": "stream",
     "text": [
      "5 teste 0101\n",
      "7 0111 &\n",
      "-------\n",
      "5 0101\n",
      "0b101\n"
     ]
    }
   ],
   "source": [
    "a = 5\n",
    "b = 7\n",
    "print(a,f\"teste {a:04b}\")\n",
    "print(b,f\"{b:04b}\",\"&\")\n",
    "print(\"-\"*7)\n",
    "print(a&b,f\"{(a&b):04b}\")\n",
    "print(bin(a))"
   ]
  },
  {
   "cell_type": "markdown",
   "metadata": {},
   "source": [
    "### Operador de disjunção ( | ) ou or bit-a-bit\n",
    "5 0101 7 0111 |"
   ]
  },
  {
   "cell_type": "code",
   "execution_count": null,
   "metadata": {},
   "outputs": [],
   "source": [
    "a = 5\n",
    "b = 7\n",
    "print(a,f\"teste {a:04b}\")\n",
    "print(b,f\"{b:04b}\",\"&\")\n",
    "print(\"-\"*7)\n",
    "print(a|b,f\"{(a|b):04b}\")"
   ]
  },
  {
   "cell_type": "markdown",
   "metadata": {},
   "source": [
    "### Operador xor ( ^ ) ou or exclusivo bit-a-bit\n",
    "5 0101 7 0111 ^"
   ]
  },
  {
   "cell_type": "code",
   "execution_count": 2,
   "metadata": {},
   "outputs": [
    {
     "name": "stdout",
     "output_type": "stream",
     "text": [
      "5 0101\n",
      "7 0111 &\n",
      "-------\n",
      "2 0010\n"
     ]
    }
   ],
   "source": [
    "a = 5\n",
    "b = 7\n",
    "print(a,f\"{a:04b}\")\n",
    "print(b,f\"{b:04b}\",\"&\")\n",
    "print(\"-\"*7)\n",
    "print(a^b,f\"{(a^b):04b}\")"
   ]
  },
  {
   "cell_type": "markdown",
   "metadata": {},
   "source": [
    "### Complemento ( ~ )\n",
    "~5 = -6"
   ]
  },
  {
   "cell_type": "code",
   "execution_count": null,
   "metadata": {},
   "outputs": [],
   "source": [
    "print(~5)\n",
    "print(~-6)"
   ]
  },
  {
   "cell_type": "markdown",
   "metadata": {},
   "source": [
    "### Deslocamento de bit para esquerda ( << )\n",
    "1 << 2 resulta em 4 (100)"
   ]
  },
  {
   "cell_type": "code",
   "execution_count": null,
   "metadata": {},
   "outputs": [],
   "source": [
    "print(1 << 2, f\"{(1<<2):04b}\")"
   ]
  },
  {
   "cell_type": "markdown",
   "metadata": {},
   "source": [
    "### Deslocamento de bit para direita ( >> )\n",
    "5 >> 2 resulta em 1"
   ]
  },
  {
   "cell_type": "code",
   "execution_count": null,
   "metadata": {},
   "outputs": [],
   "source": [
    "print(5 >> 2, f\"{(5 >> 2):04b}\")"
   ]
  },
  {
   "cell_type": "markdown",
   "metadata": {},
   "source": [
    "#### Atualizando a tabela de precedência de operadores"
   ]
  },
  {
   "cell_type": "markdown",
   "metadata": {},
   "source": [
    "Seq\tOperador\tDescrição\n",
    "1\t**\tExponenciação\n",
    "2\t-,+,~\tOperadores unários e complemento\n",
    "3\t*,/,//,%\tMultiplicação, Divisões e resto\n",
    "4\t+,-\tSoma e subtração\n",
    "5\t<<, >>\tDeslocamento de bits\n",
    "6\t&\tConjunção\n",
    "7\t|\tDisjunção\n",
    "8\t<,<=,>,>=,!=,==\tOperadores Relacionais\n",
    "9\tnot\tOperador de negação\n",
    "10\tand\tOperador and\n",
    "11\tor\tOperador or\n",
    "12\t+=,-=,*=,...\tOperadores atalho"
   ]
  }
 ],
 "metadata": {
  "kernelspec": {
   "display_name": ".venv",
   "language": "python",
   "name": "python3"
  },
  "language_info": {
   "codemirror_mode": {
    "name": "ipython",
    "version": 3
   },
   "file_extension": ".py",
   "mimetype": "text/x-python",
   "name": "python",
   "nbconvert_exporter": "python",
   "pygments_lexer": "ipython3",
   "version": "3.13.2"
  }
 },
 "nbformat": 4,
 "nbformat_minor": 2
}
