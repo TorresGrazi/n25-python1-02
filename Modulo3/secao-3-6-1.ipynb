{
 "cells": [
  {
   "cell_type": "markdown",
   "metadata": {},
   "source": [
    "# 3.6.1 Operações com lista\n",
    "### Fatiamento"
   ]
  },
  {
   "cell_type": "code",
   "execution_count": 1,
   "metadata": {},
   "outputs": [
    {
     "name": "stdout",
     "output_type": "stream",
     "text": [
      "20 15\n"
     ]
    }
   ],
   "source": [
    "# Operações com valores\n",
    "item1 = 10\n",
    "item2 = 20\n",
    "item1 = item2\n",
    "item2 = 15\n",
    "print(item1, item2)"
   ]
  },
  {
   "cell_type": "code",
   "execution_count": 13,
   "metadata": {},
   "outputs": [
    {
     "name": "stdout",
     "output_type": "stream",
     "text": [
      "[1, 2, 3, 4]\n",
      "2924862974784 2924862974784\n"
     ]
    }
   ],
   "source": [
    "# Operação com lista\n",
    "lista1 = [1,2,3]\n",
    "lista2 = lista1\n",
    "lista2.append(4)\n",
    "print(lista1)\n",
    "print(id(lista1),id(lista2))"
   ]
  },
  {
   "cell_type": "code",
   "execution_count": 28,
   "metadata": {},
   "outputs": [
    {
     "name": "stdout",
     "output_type": "stream",
     "text": [
      "[2, 3]\n",
      "[1, 2, 3]\n",
      "[2, 3, 4, 5, 6]\n",
      "[1, 2, 3, 4, 5, 6]\n"
     ]
    }
   ],
   "source": [
    "# Fatiamento\n",
    "lista = [1,2,3,4,5,6]\n",
    "print(lista[1:3])\n",
    "print(lista[:3])\n",
    "print(lista[1:])\n",
    "print(lista[:])"
   ]
  },
  {
   "cell_type": "code",
   "execution_count": 34,
   "metadata": {},
   "outputs": [
    {
     "name": "stdout",
     "output_type": "stream",
     "text": [
      "[1, 2, 3, 4] 2924868989696\n",
      "[1, 2, 3, 4, 5] 2924868935808\n",
      "[1, 4]\n",
      "[1, 2, 3, 4, 5]\n"
     ]
    }
   ],
   "source": [
    "lista1 =[1,2,3,4]\n",
    "lista2 = lista1[:]\n",
    "lista2.append(5)\n",
    "print(lista1,id(lista1))\n",
    "print(lista2,id(lista2))\n",
    "del lista1[1:3]\n",
    "print(lista1)\n",
    "print(lista2)"
   ]
  },
  {
   "cell_type": "markdown",
   "metadata": {},
   "source": [
    "### Operador in e not in"
   ]
  },
  {
   "cell_type": "code",
   "execution_count": 35,
   "metadata": {},
   "outputs": [
    {
     "name": "stdout",
     "output_type": "stream",
     "text": [
      "True\n",
      "False\n",
      "False\n"
     ]
    }
   ],
   "source": [
    "lista = [7,8,3,2,5]\n",
    "print(5 in lista)\n",
    "print(5 not in lista)\n",
    "print(9 in lista)"
   ]
  },
  {
   "cell_type": "code",
   "execution_count": 36,
   "metadata": {},
   "outputs": [
    {
     "name": "stdout",
     "output_type": "stream",
     "text": [
      "cdefghijklmnoprstuvx\n"
     ]
    }
   ],
   "source": [
    "# fatiamento em string\n",
    "texto = \"abcdefghijklmnoprstuvxyz\"\n",
    "print(texto[2:-2])"
   ]
  },
  {
   "cell_type": "markdown",
   "metadata": {},
   "source": [
    "### 3.6.6   LAB   Operações com listas ‒ básico\n"
   ]
  },
  {
   "cell_type": "code",
   "execution_count": 42,
   "metadata": {},
   "outputs": [
    {
     "name": "stdout",
     "output_type": "stream",
     "text": [
      "A lista com os elementos exclusivos aqui\n",
      "[1, 2, 4, 6, 9]\n"
     ]
    }
   ],
   "source": [
    "my_list = [1, 2, 4, 4, 1, 4, 2, 6, 2, 9]\n",
    "apoio=[]\n",
    "for el in my_list:\n",
    "    if el not in apoio:\n",
    "        apoio.append(el)\n",
    "my_list = apoio        \n",
    "print(\"A lista com os elementos exclusivos aqui\")\n",
    "print(my_list)"
   ]
  }
 ],
 "metadata": {
  "kernelspec": {
   "display_name": ".venv",
   "language": "python",
   "name": "python3"
  },
  "language_info": {
   "codemirror_mode": {
    "name": "ipython",
    "version": 3
   },
   "file_extension": ".py",
   "mimetype": "text/x-python",
   "name": "python",
   "nbconvert_exporter": "python",
   "pygments_lexer": "ipython3",
   "version": "3.13.2"
  }
 },
 "nbformat": 4,
 "nbformat_minor": 2
}
