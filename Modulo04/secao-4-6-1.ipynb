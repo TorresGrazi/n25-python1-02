{
 "cells": [
  {
   "cell_type": "markdown",
   "metadata": {},
   "source": [
    "### 4.6.1 - Tuplas e dicionários\n",
    "### Tuplas"
   ]
  },
  {
   "cell_type": "code",
   "execution_count": 4,
   "metadata": {},
   "outputs": [
    {
     "name": "stdout",
     "output_type": "stream",
     "text": [
      "() (1, 2) (1, 2)\n",
      "(1,)\n"
     ]
    }
   ],
   "source": [
    "# Definindo uma tupla vazia\n",
    "tupla = ()\n",
    "# Definindo uma tupla com 2 elementos\n",
    "tupla_v1 = (1, 2)\n",
    "tupla_v2 = 1, 2\n",
    "print(tupla, tupla_v1, tupla_v2)\n",
    "# Definindo uma tupla com 1 elemento\n",
    "tupla_v3 = (1,)\n",
    "print(tupla_v3)\n",
    "\n"
   ]
  },
  {
   "cell_type": "code",
   "execution_count": 8,
   "metadata": {},
   "outputs": [
    {
     "name": "stdout",
     "output_type": "stream",
     "text": [
      "(1, 2, 3, 4, 5, 6, 7, 8)\n",
      "(2, 3, 4, 5, 6, 7)\n",
      "True\n",
      "False\n"
     ]
    }
   ],
   "source": [
    "# Operações com tuplas\n",
    "tupla = (1,2,3,4,5)\n",
    "# tupla.append(6) # Isso não pode\n",
    "# tupla.insert(1,6) # Isso não pode também\n",
    "# del tupla[2] # Isso também não pode\n",
    "# tupla[4] = 10 # Isso também não é permitido\n",
    "tupla = tupla + (6,7,8)\n",
    "print(tupla)\n",
    "print(tupla[1:-1]) # Fatiamento é possível também\n",
    "print(6 in tupla) # in pode\n",
    "print(5 not in tupla) # not in pode\n"
   ]
  },
  {
   "cell_type": "markdown",
   "metadata": {},
   "source": [
    "### Dicionário"
   ]
  },
  {
   "cell_type": "code",
   "execution_count": 9,
   "metadata": {},
   "outputs": [
    {
     "name": "stdout",
     "output_type": "stream",
     "text": [
      "Grazieli Garcia Torres\n",
      "{'nome': 'Grazieli Garcia Torres', 'endereco': 'Rua das ruas, 15', 'telefone': '12345678900'}\n"
     ]
    }
   ],
   "source": [
    "dic = { \"nome\": \"Grazieli Garcia Torres\", \"endereco\": \"Rua das ruas, 15\"}\n",
    "print(dic[\"nome\"])\n",
    "dic[\"telefone\"] = \"12345678900\"\n",
    "print(dic)"
   ]
  }
 ],
 "metadata": {
  "kernelspec": {
   "display_name": ".venv",
   "language": "python",
   "name": "python3"
  },
  "language_info": {
   "codemirror_mode": {
    "name": "ipython",
    "version": 3
   },
   "file_extension": ".py",
   "mimetype": "text/x-python",
   "name": "python",
   "nbconvert_exporter": "python",
   "pygments_lexer": "ipython3",
   "version": "3.13.2"
  }
 },
 "nbformat": 4,
 "nbformat_minor": 2
}
